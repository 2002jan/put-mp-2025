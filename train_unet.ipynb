{
 "cells": [
  {
   "cell_type": "code",
   "execution_count": null,
   "id": "885d786c",
   "metadata": {},
   "outputs": [],
   "source": [
    "import cv2\n",
    "import torch\n",
    "from torchvision import transforms\n",
    "from PIL import Image\n",
    "import numpy as np\n",
    "from app.utils.dataset import DepthDataset, create_data_loader\n",
    "from models.UNetResNetDepth import UNetResNetDepth\n",
    "from models.train_depth_model import train_model\n",
    "from app.utils.env import Env\n",
    "import matplotlib.pyplot as plt"
   ]
  },
  {
   "cell_type": "code",
   "execution_count": null,
   "id": "e06cf26a",
   "metadata": {},
   "outputs": [],
   "source": [
    "env = Env()\n",
    "\n",
    "image_size = 256\n",
    "transform = transforms.Compose([\n",
    "    transforms.Resize((image_size, image_size)),\n",
    "    transforms.ToTensor(),\n",
    "])\n",
    "\n",
    "target_transform = transforms.Compose([\n",
    "    transforms.ToPILImage(),\n",
    "    transforms.Resize((image_size, image_size)),\n",
    "    transforms.ToTensor()\n",
    "])\n",
    "\n"
   ]
  },
  {
   "cell_type": "code",
   "execution_count": null,
   "id": "d95ddeb2",
   "metadata": {},
   "outputs": [],
   "source": [
    "train_dataset = DepthDataset(\n",
    "    root_dir=env.dataset_path / \"train\",\n",
    "    transform=transform,\n",
    "    target_transform=target_transform,\n",
    ")\n",
    "val_dataset = DepthDataset(\n",
    "    root_dir=env.dataset_path / \"val\",\n",
    "    transform=transform,\n",
    "    target_transform=target_transform,\n",
    ")"
   ]
  },
  {
   "cell_type": "code",
   "execution_count": null,
   "id": "b21c3efb",
   "metadata": {},
   "outputs": [],
   "source": [
    "\n",
    "model = UNetResNetDepth()\n",
    "train_loader = create_data_loader(train_dataset, batch_size=4)\n",
    "val_loader = create_data_loader(val_dataset, batch_size=4, shuffle=False)\n",
    "\n",
    "train_model(model, train_loader, val_loader, num_epochs=10)"
   ]
  }
 ],
 "metadata": {
  "kernelspec": {
   "display_name": "Python 3",
   "language": "python",
   "name": "python3"
  },
  "language_info": {
   "codemirror_mode": {
    "name": "ipython",
    "version": 3
   },
   "file_extension": ".py",
   "mimetype": "text/x-python",
   "name": "python",
   "nbconvert_exporter": "python",
   "pygments_lexer": "ipython3",
   "version": "3.13.3"
  }
 },
 "nbformat": 4,
 "nbformat_minor": 5
}
